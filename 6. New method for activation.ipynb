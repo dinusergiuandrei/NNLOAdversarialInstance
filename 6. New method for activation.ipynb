{
 "cells": [
  {
   "cell_type": "code",
   "execution_count": 1,
   "id": "c7005a57",
   "metadata": {},
   "outputs": [],
   "source": [
    "from utils.setup_utils import setup\n",
    "setup(globals())"
   ]
  },
  {
   "cell_type": "code",
   "execution_count": 4,
   "id": "336a0f9e",
   "metadata": {},
   "outputs": [
    {
     "data": {
      "text/plain": [
       "array([7, 2, 1, 0, 4])"
      ]
     },
     "execution_count": 4,
     "metadata": {},
     "output_type": "execute_result"
    }
   ],
   "source": [
    "W, B = load_model()\n",
    "x, y = load_data()\n",
    "\n",
    "x = (x - 0.1307) / 0.3081\n",
    "x = x.reshape(-1, 28 * 28)\n",
    "\n",
    "def ginit(shape):\n",
    "    return np.zeros(shape, dtype=gp.Var)\n",
    "\n",
    "y[:5]"
   ]
  },
  {
   "cell_type": "code",
   "execution_count": 6,
   "id": "17d99ca3",
   "metadata": {},
   "outputs": [
    {
     "data": {
      "text/plain": [
       "2.82148653034729"
      ]
     },
     "execution_count": 6,
     "metadata": {},
     "output_type": "execute_result"
    }
   ],
   "source": [
    "x[0].max()"
   ]
  },
  {
   "cell_type": "code",
   "execution_count": 10,
   "id": "7f3d4e15",
   "metadata": {},
   "outputs": [
    {
     "data": {
      "text/plain": [
       "2"
      ]
     },
     "execution_count": 10,
     "metadata": {},
     "output_type": "execute_result"
    },
    {
     "data": {
      "text/plain": [
       "2"
      ]
     },
     "execution_count": 10,
     "metadata": {},
     "output_type": "execute_result"
    }
   ],
   "source": [
    "def feed_forward(im):\n",
    "    \n",
    "    im = im.reshape(28 * 28) \n",
    "#     im /= 255\n",
    "#     im = (im - 0.1307) / 0.3081\n",
    "    \n",
    "    x1 = im @ W[0] + B[0]\n",
    "    y1 = relu(x1)\n",
    "\n",
    "    x2 = y1 @ W[1] + B[1]\n",
    "    y2 = relu(x2)\n",
    "\n",
    "    x3 = y2 @ W[2] + B[2]\n",
    "\n",
    "    return x3.argmax()\n",
    "\n",
    "y[1]\n",
    "feed_forward(x[1])"
   ]
  },
  {
   "cell_type": "markdown",
   "id": "58d65337",
   "metadata": {},
   "source": [
    "Sanity check. Pretrained model has 98.4% acc."
   ]
  },
  {
   "cell_type": "code",
   "execution_count": 8,
   "id": "30ae9310",
   "metadata": {},
   "outputs": [
    {
     "data": {
      "application/vnd.jupyter.widget-view+json": {
       "model_id": "13e6462ec249444f839598987f4b8187",
       "version_major": 2,
       "version_minor": 0
      },
      "text/plain": [
       "  0%|          | 0/10000 [00:00<?, ?it/s]"
      ]
     },
     "metadata": {},
     "output_type": "display_data"
    },
    {
     "data": {
      "text/plain": [
       "0.9842"
      ]
     },
     "execution_count": 8,
     "metadata": {},
     "output_type": "execute_result"
    }
   ],
   "source": [
    "preds = np.array([feed_forward(i) for i in tqdm(x)])\n",
    "(preds == y).mean()"
   ]
  },
  {
   "cell_type": "code",
   "execution_count": null,
   "id": "d341a8e2",
   "metadata": {},
   "outputs": [],
   "source": [
    "def generate_adversarial_input(index, fake_label, time_limit_seconds):\n",
    "    true_label = y[index]\n",
    "    image = x[index]\n",
    "    \n",
    "    m = gp.Model()\n",
    "    m.setParam('TimeLimit', time_limit_seconds)\n",
    "    gurobi_x = [ginit(x.shape[1]), ginit(B[0].shape), ginit(B[1].shape), ginit(B[2].shape)]\n",
    "    gurobi_z = [None, ginit(B[0].shape), ginit(B[1].shape), ginit(B[2].shape)]\n",
    "    gurobi_s = [None, ginit(B[0].shape), ginit(B[1].shape), ginit(B[2].shape)]\n",
    "\n",
    "\n",
    "    for j in range(x.shape[1]):\n",
    "        gurobi_x[0][j] = m.addVar(vtype='C', name=f'x_0_{j}', \n",
    "                                  lb=(-1 - 0.1307) / 0.3081, ub=(1 - 0.1307) / 0.3081)\n",
    "\n",
    "    for layer_index in range(3):\n",
    "        w = W[layer_index]\n",
    "        b = B[layer_index]\n",
    "\n",
    "        n_k_prev, n_k = w.shape\n",
    "\n",
    "        for j in range(n_k):\n",
    "            gurobi_x[layer_index + 1][j] = m.addVar(vtype='C', name=f'x_{layer_index}_{j}')\n",
    "            gurobi_z[layer_index + 1][j] = m.addVar(vtype='B', name=f'z_{layer_index}_{j}')\n",
    "            gurobi_s[layer_index + 1][j] = m.addVar(vtype='C', name=f's_{layer_index}_{j}')\n",
    "\n",
    "    for layer_index in range(3):\n",
    "        w = W[layer_index]\n",
    "        b = B[layer_index]\n",
    "\n",
    "        n_k_prev, n_k = w.shape\n",
    "\n",
    "        for j in range(n_k):\n",
    "\n",
    "#             _ = m.addConstr(gp.quicksum(w[i][j] * gurobi_x[layer_index][i] \n",
    "#                                      for i in range(n_k_prev)) \\\n",
    "#                             + b[j] == gurobi_z[layer_index + 1][j])\n",
    "\n",
    "#             _ = m.addConstr(gurobi_x[layer_index + 1][j] == \\\n",
    "#                             gp.max_([gurobi_z[layer_index + 1][j], 0]))\n",
    "\n",
    "            _ = m.addConstr(gp.quicksum(w[i][j] * gurobi_x[layer_index][i] \n",
    "                                     for i in range(n_k_prev)) \\\n",
    "                            + b[j] == gurobi_x[layer_index + 1][j] - gurobi_s[layer_index + 1][j])\n",
    "            \n",
    "            _ = m.addConstr(gurobi_x[layer_index + 1][j] >= 0)\n",
    "            _ = m.addConstr(gurobi_s[layer_index + 1][j] >= 0)\n",
    "            \n",
    "            \n",
    "            _ = m.addConstr((gurobi_z[layer_index + 1][j] == 1) >>\n",
    "                            (gurobi_x[layer_index + 1][j] <= 0))\n",
    "            \n",
    "            _ = m.addConstr((gurobi_z[layer_index + 1][j] == 0) >>\n",
    "                            (gurobi_s[layer_index + 1][j] <= 0))\n",
    "\n",
    "\n",
    "    _ = m.addConstr(gurobi_x[-1][fake_label] == gp.max_(gurobi_x[-1][i] for i in range(10)))\n",
    "\n",
    "    \n",
    "    delta = ginit(image.shape[0])\n",
    "\n",
    "    for j in range(image.shape[0]):\n",
    "        delta[j] = m.addVar(vtype='C', name=f'delta_{j}', lb=0)\n",
    "        _ = m.addConstr((gurobi_x[0][j] - image[j]) <= delta[j])\n",
    "        _ = m.addConstr((gurobi_x[0][j] - image[j]) >= -delta[j])\n",
    "\n",
    "    m.setObjective(gp.quicksum(delta[i] for i in range(image.shape[0])), gp.GRB.MINIMIZE)\n",
    "\n",
    "    m.optimize()\n",
    "    \n",
    "    constructed = np.array([gurobi_x[0][j].X for j in range(image.shape[0])]).reshape(28, 28)\n",
    "    scaled_back = (constructed * 0.3081) + 0.1307\n",
    "    final = np.uint8((scaled_back * 255).clip(0, 255))\n",
    "    return scaled_back # final\n",
    "\n",
    "o = generate_adversarial_input(1, 8, time_limit_seconds=15 * 60)"
   ]
  },
  {
   "cell_type": "code",
   "execution_count": null,
   "id": "7c97e034",
   "metadata": {},
   "outputs": [],
   "source": [
    "import pickle\n",
    "\n",
    "with open('v2_output_2_to_8.pickle', 'wb') as handle:\n",
    "    pickle.dump(o, handle, protocol=pickle.HIGHEST_PROTOCOL)"
   ]
  },
  {
   "cell_type": "code",
   "execution_count": 12,
   "id": "cc3b5c22",
   "metadata": {},
   "outputs": [],
   "source": [
    "import pickle\n",
    "\n",
    "with open('v2_output_2_to_8.pickle', 'rb') as handle:\n",
    "    o = pickle.load(handle)"
   ]
  },
  {
   "cell_type": "code",
   "execution_count": 14,
   "id": "831f9b2d",
   "metadata": {},
   "outputs": [],
   "source": [
    "final = np.uint8((o * 255).clip(0, 255))"
   ]
  },
  {
   "cell_type": "code",
   "execution_count": 15,
   "id": "0f4e1495",
   "metadata": {},
   "outputs": [
    {
     "data": {
      "image/png": "[encoded data removed]",
      "text/plain": [
       "<Figure size 1080x360 with 1 Axes>"
      ]
     },
     "metadata": {},
     "output_type": "display_data"
    }
   ],
   "source": [
    "_ = plt.imshow(final, cmap='gray')"
   ]
  },
  {
   "cell_type": "code",
   "execution_count": 17,
   "id": "450769be",
   "metadata": {},
   "outputs": [
    {
     "data": {
      "text/plain": [
       "8"
      ]
     },
     "execution_count": 17,
     "metadata": {},
     "output_type": "execute_result"
    }
   ],
   "source": [
    "def feed_forward(im):\n",
    "    \n",
    "    im = im.reshape(28 * 28) \n",
    "#     im /= 255\n",
    "    im = (im - 0.1307) / 0.3081\n",
    "    \n",
    "    x1 = im @ W[0] + B[0]\n",
    "    y1 = relu(x1)\n",
    "\n",
    "    x2 = y1 @ W[1] + B[1]\n",
    "    y2 = relu(x2)\n",
    "\n",
    "    x3 = y2 @ W[2] + B[2]\n",
    "\n",
    "    return x3.argmax()\n",
    "\n",
    "feed_forward(o)"
   ]
  }
 ],
 "metadata": {
  "kernelspec": {
   "display_name": "Python 3 (ipykernel)",
   "language": "python",
   "name": "python3"
  },
  "language_info": {
   "codemirror_mode": {
    "name": "ipython",
    "version": 3
   },
   "file_extension": ".py",
   "mimetype": "text/x-python",
   "name": "python",
   "nbconvert_exporter": "python",
   "pygments_lexer": "ipython3",
   "version": "3.9.5"
  }
 },
 "nbformat": 4,
 "nbformat_minor": 5
}
