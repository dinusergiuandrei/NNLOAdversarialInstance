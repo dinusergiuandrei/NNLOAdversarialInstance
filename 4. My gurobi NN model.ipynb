{
 "cells": [
  {
   "cell_type": "code",
   "execution_count": 1,
   "id": "8e946aea",
   "metadata": {},
   "outputs": [],
   "source": [
    "from utils.setup_utils import setup\n",
    "setup(globals())\n",
    "\n",
    "W, B = load_model()\n",
    "x, y = load_data()\n",
    "\n",
    "x = (x - 0.1307) / 0.3081\n",
    "x = x.reshape(-1, 28 * 28)\n",
    "\n",
    "def ginit(shape):\n",
    "    return np.zeros(shape, dtype=gp.Var)"
   ]
  },
  {
   "cell_type": "code",
   "execution_count": 55,
   "id": "d3f875c9",
   "metadata": {},
   "outputs": [
    {
     "name": "stdout",
     "output_type": "stream",
     "text": [
      "Gurobi Optimizer version 9.1.2 build v9.1.2rc0 (win64)\n",
      "Thread count: 4 physical cores, 4 logical processors, using up to 4 threads\n",
      "Optimize a model with 1306 rows, 2612 columns and 270890 nonzeros\n",
      "Model fingerprint: 0xc32a050e\n",
      "Model has 784 quadratic objective terms\n",
      "Model has 523 general constraints\n",
      "Variable types: 2612 continuous, 0 integer (0 binary)\n",
      "Coefficient statistics:\n",
      "  Matrix range     [3e-08, 1e+00]\n",
      "  Objective range  [0e+00, 0e+00]\n",
      "  QObjective range [2e+00, 2e+00]\n",
      "  Bounds range     [0e+00, 0e+00]\n",
      "  RHS range        [4e-05, 3e+00]\n",
      "Presolve removed 262 rows and 793 columns\n",
      "Presolve time: 0.34s\n",
      "Presolved: 1044 rows, 1819 columns, 270366 nonzeros\n",
      "Presolved model has 784 quadratic objective terms\n",
      "Variable types: 1819 continuous, 0 integer (0 binary)\n",
      "Presolve removed 513 rows and 513 columns\n",
      "Presolve time: 0.48s\n",
      "Presolved: 531 rows, 1306 columns, 269340 nonzeros\n",
      "Presolved model has 784 quadratic objective terms\n",
      "Root barrier log...\n",
      "\n",
      "Ordering time: 0.00s\n",
      "\n",
      "Barrier statistics:\n",
      " AA' NZ     : 1.335e+05\n",
      " Factor NZ  : 1.341e+05 (roughly 2 MBytes of memory)\n",
      " Factor Ops : 4.556e+07 (less than 1 second per iteration)\n",
      " Threads    : 3\n",
      "\n",
      "                  Objective                Residual\n",
      "Iter       Primal          Dual         Primal    Dual     Compl     Time\n",
      "   0   1.96225816e+08 -1.95939374e+08  3.47e+03 0.00e+00  1.00e+06     1s\n",
      "   1   1.05485015e+08 -1.05155571e+08  1.43e+03 0.00e+00  4.46e+05     1s\n",
      "   2   8.94308452e+07 -8.90178010e+07  7.91e+02 0.00e+00  3.44e+05     1s\n",
      "   3   4.41982678e+07 -4.37475100e+07  1.99e+02 0.00e+00  1.38e+05     1s\n",
      "   4   1.79478023e+07 -1.75373900e+07  2.48e+01 0.00e+00  3.70e+04     1s\n",
      "   5   4.17515133e+06 -3.92459246e+06  2.48e-05 0.00e+00  6.16e+03     1s\n",
      "   6   6.44588809e+05 -5.38837809e+05  2.45e-11 3.64e-12  9.00e+02     1s\n",
      "   7   1.10581011e+05 -5.94522131e+04  1.75e-12 3.86e-12  1.29e+02     1s\n",
      "   8   2.89904849e+04  4.70249240e+03  3.91e-13 1.65e-12  1.85e+01     1s\n",
      "   9   1.96917277e+04  1.37256301e+04  2.17e-13 1.36e-12  4.54e+00     1s\n",
      "  10   1.69574742e+04  1.58149447e+04  2.26e-13 1.71e-12  8.69e-01     1s\n",
      "  11   1.63507484e+04  1.62780789e+04  4.22e-13 1.07e-12  5.53e-02     1s\n",
      "  12   1.63112772e+04  1.63091777e+04  6.44e-13 1.93e-12  1.60e-03     1s\n",
      "  13   1.63101215e+04  1.63101173e+04  3.27e-12 1.08e-12  3.23e-06     1s\n",
      "  14   1.63101198e+04  1.63101198e+04  5.27e-11 1.14e-12  3.26e-09     1s\n",
      "\n",
      "Barrier solved model in 14 iterations and 0.89 seconds\n",
      "Optimal objective 1.63101198e+04\n",
      "\n",
      "\n",
      "Root relaxation: objective 1.631012e+04, 0 iterations, 0.49 seconds\n",
      "\n",
      "    Nodes    |    Current Node    |     Objective Bounds      |     Work\n",
      " Expl Unexpl |  Obj  Depth IntInf | Incumbent    BestBd   Gap | It/Node Time\n",
      "\n",
      "*    0     0               0    16310.119828 16310.1198  0.00%     -    0s\n",
      "\n",
      "Explored 0 nodes (0 simplex iterations) in 0.93 seconds\n",
      "Thread count was 4 (of 4 available processors)\n",
      "\n",
      "Solution count 1: 16310.1 \n",
      "\n",
      "Optimal solution found (tolerance 1.00e-04)\n",
      "Best objective 1.631011982753e+04, best bound 1.631011982753e+04, gap 0.0000%\n"
     ]
    }
   ],
   "source": [
    "true_label = y[0]\n",
    "fake_label = 1\n",
    "image = x[0]\n",
    "\n",
    "m = gp.Model()\n",
    "\n",
    "gurobi_x = [ginit(x.shape[1]), ginit(B[0].shape), ginit(B[1].shape), ginit(B[2].shape)]\n",
    "gurobi_z = [None, ginit(B[0].shape), ginit(B[1].shape), ginit(B[2].shape)]\n",
    "\n",
    "\n",
    "##### Variables #####\n",
    "\n",
    "for j in range(x.shape[1]):\n",
    "    gurobi_x[0][j] = m.addVar(vtype='C', name=f'x_0_{j}') \n",
    "#                               lb=(-1 - 0.1307) / 0.3081, ub=(1 - 0.1307) / 0.3081)\n",
    "\n",
    "for layer_index in range(3):\n",
    "    w = W[layer_index]\n",
    "    b = B[layer_index]\n",
    "    \n",
    "    n_k_prev, n_k = w.shape\n",
    "    \n",
    "    for j in range(n_k):\n",
    "        gurobi_x[layer_index + 1][j] = m.addVar(vtype='C', name=f'x_{layer_index}_{j}')\n",
    "        gurobi_z[layer_index + 1][j] = m.addVar(vtype='C', name=f'z_{layer_index}_{j}')\n",
    "        \n",
    "##### Constraints #####\n",
    "\n",
    "for layer_index in range(3):\n",
    "    w = W[layer_index]\n",
    "    b = B[layer_index]\n",
    "    \n",
    "    n_k_prev, n_k = w.shape\n",
    "    \n",
    "    for j in range(n_k):\n",
    "        \n",
    "        # feed forward\n",
    "        _ = m.addConstr(gp.quicksum(w[i][j] * gurobi_x[layer_index][i] \n",
    "                                 for i in range(n_k_prev)) \\\n",
    "                        + b[j] == \\\n",
    "                    gurobi_z[layer_index + 1][j]\n",
    "                   )\n",
    "        \n",
    "        # ReLU activation\n",
    "        \n",
    "#         _ = m.addConstr((gurobi_x[layer_index + 1][j] != gurobi_z[layer_index + 1][j]) >> \n",
    "#                         (gurobi_z[layer_index + 1][j] <= 0))\n",
    "        \n",
    "#         _ = m.addConstr((gurobi_x[layer_index + 1][j] != 0) >>\n",
    "#                         (gurobi_z[layer_index + 1][j] >= 0))\n",
    "        \n",
    "#         _ = m.addConstr((gurobi_x[layer_index + 1][j] == 0) or \\\n",
    "#                         (gurobi_x[layer_index + 1][j] == gurobi_z[layer_index + 1][j]))\n",
    "        \n",
    "#         _ = m.addGenConstrMax(gurobi_x[layer_index + 1][j], \n",
    "#                               [gurobi_z[layer_index + 1][j]], \n",
    "#                               0)\n",
    "        \n",
    "        _ = m.addConstr(gurobi_x[layer_index + 1][j] == \\\n",
    "                        gp.max_([gurobi_z[layer_index + 1][j], 0]))\n",
    "        \n",
    "        # https://support.gurobi.com/hc/en-us/community/posts/360077951791-if-statement-in-constraint-\n",
    "\n",
    "# Lead the model to a false prediction.\n",
    "_ = m.addConstr(gurobi_x[-1][fake_label] == gp.max_(gurobi_x[-1][i] for i in range(10)))\n",
    "\n",
    "##### Objective #####\n",
    "\n",
    "delta = ginit(image.shape[0])\n",
    "\n",
    "for j in range(image.shape[0]):\n",
    "    delta[j] = m.addVar(vtype='C', name=f'delta_{j}')\n",
    "    _ = m.addConstr((gurobi_x[0][j] - image[j]) == delta[j])\n",
    "\n",
    "m.setObjective(gp.quicksum(delta[i] ** 2 for i in range(image.shape[0])), gp.GRB.MINIMIZE)\n",
    "\n",
    "m.optimize()"
   ]
  },
  {
   "cell_type": "code",
   "execution_count": 43,
   "id": "a8794be2",
   "metadata": {},
   "outputs": [],
   "source": [
    "constructed = np.array([gurobi_x[0][j].X for j in range(image.shape[0])]).reshape(28, 28)"
   ]
  },
  {
   "cell_type": "code",
   "execution_count": 57,
   "id": "7e548af7",
   "metadata": {},
   "outputs": [],
   "source": [
    "from PIL import Image\n",
    "\n",
    "t = np.uint8((constructed * 255).clip(0, 255))\n",
    "Image.fromarray(t)"
   ]
  },
  {
   "cell_type": "code",
   "execution_count": 70,
   "id": "c7a2e359",
   "metadata": {},
   "outputs": [
    {
     "data": {
      "text/plain": [
       "array([7], dtype=int64)"
      ]
     },
     "execution_count": 70,
     "metadata": {},
     "output_type": "execute_result"
    },
    {
     "data": {
      "text/plain": [
       "array([[ -1.70159475,  -1.19535526,   0.50834242,   3.22029661,\n",
       "         -4.15990621,  -2.5535982 , -11.01674886,  16.0265664 ,\n",
       "         -3.08458593,   4.16988858]])"
      ]
     },
     "execution_count": 70,
     "metadata": {},
     "output_type": "execute_result"
    }
   ],
   "source": [
    "x1 = image.reshape(-1, 28 * 28) @ W[0] + B[0]\n",
    "y1 = relu(x1)\n",
    "\n",
    "x2 = y1 @ W[1] + B[1]\n",
    "y2 = relu(x2)\n",
    "\n",
    "x3 = y2 @ W[2] + B[2]\n",
    "\n",
    "x3.argmax(axis=1)\n",
    "x3"
   ]
  },
  {
   "cell_type": "code",
   "execution_count": 68,
   "id": "4b4de274",
   "metadata": {},
   "outputs": [
    {
     "data": {
      "text/plain": [
       "array([1], dtype=int64)"
      ]
     },
     "execution_count": 68,
     "metadata": {},
     "output_type": "execute_result"
    },
    {
     "data": {
      "text/plain": [
       "array([[ 6.83304593e-11,  1.37262031e-01,  2.42658671e-12,\n",
       "         2.76063061e-11,  6.10661521e-12,  1.37262031e-01,\n",
       "        -4.77989870e-12,  1.37262031e-01,  1.53511648e-11,\n",
       "        -1.84729870e-11]])"
      ]
     },
     "execution_count": 68,
     "metadata": {},
     "output_type": "execute_result"
    }
   ],
   "source": [
    "x1 = constructed.reshape(-1, 28 * 28) @ W[0] + B[0]\n",
    "y1 = relu(x1)\n",
    "\n",
    "x2 = y1 @ W[1] + B[1]\n",
    "y2 = relu(x2)\n",
    "\n",
    "x3 = y2 @ W[2] + B[2]\n",
    "\n",
    "x3.argmax(axis=1)\n",
    "x3"
   ]
  }
 ],
 "metadata": {
  "kernelspec": {
   "display_name": "Python 3 (ipykernel)",
   "language": "python",
   "name": "python3"
  },
  "language_info": {
   "codemirror_mode": {
    "name": "ipython",
    "version": 3
   },
   "file_extension": ".py",
   "mimetype": "text/x-python",
   "name": "python",
   "nbconvert_exporter": "python",
   "pygments_lexer": "ipython3",
   "version": "3.9.5"
  }
 },
 "nbformat": 4,
 "nbformat_minor": 5
}
