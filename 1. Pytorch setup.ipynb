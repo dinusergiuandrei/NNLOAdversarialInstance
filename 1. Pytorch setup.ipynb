{
 "cells": [
  {
   "cell_type": "code",
   "execution_count": 1,
   "id": "bd3b160e",
   "metadata": {},
   "outputs": [],
   "source": [
    "import argparse\n",
    "import os\n",
    "import time\n",
    "import shutil\n",
    "from collections import OrderedDict\n",
    "from tqdm.auto import tqdm\n",
    "\n",
    "import pandas as pd\n",
    "import seaborn as sns\n",
    "import matplotlib.pyplot as plt\n",
    "\n",
    "import torch\n",
    "import torch.nn.functional as F\n",
    "import torch.optim as optim\n",
    "import torch.nn as nn\n",
    "import torch.utils.model_zoo as model_zoo\n",
    "\n",
    "from torch.autograd import Variable\n",
    "from torch.utils.data import DataLoader\n",
    "from torchvision import datasets, transforms\n",
    "\n",
    "# required to download pretrained model\n",
    "import ssl\n",
    "ssl._create_default_https_context = ssl._create_unverified_context"
   ]
  },
  {
   "cell_type": "code",
   "execution_count": 2,
   "id": "824400d0",
   "metadata": {},
   "outputs": [],
   "source": [
    "def ensure_dir(path):\n",
    "    if not os.path.exists(path):\n",
    "        print(\"Creating folder {}\".format(path))\n",
    "        os.makedirs(path)"
   ]
  },
  {
   "cell_type": "code",
   "execution_count": 3,
   "id": "9f6a5fa6",
   "metadata": {},
   "outputs": [
    {
     "name": "stderr",
     "output_type": "stream",
     "text": [
      "C:\\Users\\dinus\\anaconda3\\lib\\site-packages\\torchvision\\datasets\\mnist.py:498: UserWarning: The given NumPy array is not writeable, and PyTorch does not support non-writeable tensors. This means you can write to the underlying (supposedly non-writeable) NumPy array using the tensor. You may want to copy the array to protect its data or make it writeable before converting it to a tensor. This type of warning will be suppressed for the rest of this program. (Triggered internally at  ..\\torch\\csrc\\utils\\tensor_numpy.cpp:180.)\n",
      "  return torch.from_numpy(parsed.astype(m[2], copy=False)).view(*s)\n"
     ]
    }
   ],
   "source": [
    "def load_data(batch_size, data_root, num_workers=1):\n",
    "    \n",
    "    def _load_data(data_root, train, batch_size):\n",
    "        return torch.utils.data.DataLoader(\n",
    "        datasets.MNIST(root=data_root, train=train, download=True,\n",
    "                       transform=transforms.Compose([\n",
    "                           transforms.ToTensor(),\n",
    "                           transforms.Normalize((0.1307,), (0.3081,))\n",
    "                       ])),\n",
    "        batch_size=batch_size, shuffle=True)\n",
    "        \n",
    "        \n",
    "    train_loader = _load_data(data_root, True, batch_size)\n",
    "    test_loader = _load_data(data_root, False, batch_size)\n",
    "    \n",
    "    return train_loader, test_loader\n",
    "\n",
    "train_loader, test_loader = load_data(batch_size=200, \n",
    "                                      data_root='tmp/public_dataset/pytorch/mnist-data', \n",
    "                                      num_workers=1)"
   ]
  },
  {
   "cell_type": "code",
   "execution_count": 4,
   "id": "ff868b88",
   "metadata": {},
   "outputs": [],
   "source": [
    "model_urls = {\n",
    "    'mnist': 'http://ml.cs.tsinghua.edu.cn/~chenxi/pytorch-models/mnist-b07bb66b.pth'\n",
    "}\n",
    "\n",
    "class MLP(nn.Module):\n",
    "    def __init__(self, input_dims, n_hiddens, n_class, display=False):\n",
    "        super(MLP, self).__init__()\n",
    "        assert isinstance(input_dims, int), 'Please provide int for input_dims'\n",
    "        self.input_dims = input_dims\n",
    "        current_dims = input_dims\n",
    "        layers = OrderedDict()\n",
    "\n",
    "        if isinstance(n_hiddens, int):\n",
    "            n_hiddens = [n_hiddens]\n",
    "        else:\n",
    "            n_hiddens = list(n_hiddens)\n",
    "        for i, n_hidden in enumerate(n_hiddens):\n",
    "            layers['fc{}'.format(i+1)] = nn.Linear(current_dims, n_hidden)\n",
    "            layers['relu{}'.format(i+1)] = nn.ReLU()\n",
    "#             layers['drop{}'.format(i+1)] = nn.Dropout(0.2)\n",
    "            current_dims = n_hidden\n",
    "        layers['out'] = nn.Linear(current_dims, n_class)\n",
    "\n",
    "        self.model= nn.Sequential(layers)\n",
    "        if display:\n",
    "            print(self.model)\n",
    "\n",
    "    def forward(self, input):\n",
    "        input = input.view(input.size(0), -1)\n",
    "        assert input.size(1) == self.input_dims\n",
    "        return self.model.forward(input)\n",
    "\n",
    "def mnist(input_dims=784, n_hiddens=[256, 256], n_class=10, pretrained=False):\n",
    "    model = MLP(input_dims, n_hiddens, n_class)\n",
    "    if pretrained:\n",
    "        print('Loading pretrained model')\n",
    "        m = model_zoo.load_url(model_urls['mnist'], map_location=torch.device('cpu'))\n",
    "        state_dict = m.state_dict() if isinstance(m, nn.Module) else m\n",
    "        model.load_state_dict(state_dict)\n",
    "    return model"
   ]
  },
  {
   "cell_type": "code",
   "execution_count": 5,
   "id": "a926d3f0",
   "metadata": {},
   "outputs": [],
   "source": [
    "def eval(model, test_loader):\n",
    "    model.eval()\n",
    "    test_loss = 0\n",
    "    correct = 0\n",
    "    for data, target in test_loader:\n",
    "        indx_target = target.clone()\n",
    "\n",
    "        with torch.no_grad():\n",
    "            data, target = Variable(data), Variable(target)\n",
    "            output = model(data)\n",
    "            test_loss += F.cross_entropy(output, target).data\n",
    "            pred = output.data.max(1)[1]  # get the index of the max log-probability\n",
    "            correct += pred.eq(indx_target).sum()\n",
    "\n",
    "    test_loss = test_loss / len(test_loader) # average over number of mini-batch\n",
    "    acc = 100. * correct / len(test_loader.dataset)\n",
    "    \n",
    "    return {\n",
    "        'test_loss':test_loss.item(),\n",
    "        'test_acc':acc.item()\n",
    "    }"
   ]
  },
  {
   "cell_type": "code",
   "execution_count": 14,
   "id": "89e9a8a6",
   "metadata": {},
   "outputs": [],
   "source": [
    "def train_epoch(model, train_loader, optimizer):\n",
    "    model.train()\n",
    "    train_loss = 0\n",
    "    correct = 0\n",
    "    for batch_idx, (data, target) in tqdm(enumerate(train_loader), total=len(train_loader), leave=False):\n",
    "        indx_target = target.clone()\n",
    "        print('Max value: ',  data.max(), data[0].max())\n",
    "        assert False\n",
    "        data, target = Variable(data), Variable(target)\n",
    "\n",
    "        optimizer.zero_grad()\n",
    "        output = model(data)\n",
    "        \n",
    "        pred = output.data.max(1)[1]\n",
    "        correct += pred.eq(indx_target).sum()\n",
    "        \n",
    "        loss = F.cross_entropy(output, target)\n",
    "        \n",
    "        loss.backward()\n",
    "        train_loss += loss.data\n",
    "        \n",
    "        optimizer.step()\n",
    "        \n",
    "    train_loss = train_loss / len(train_loader)\n",
    "    acc = 100. * correct / len(train_loader.dataset)\n",
    "    \n",
    "    return {\n",
    "        'train_loss':train_loss.item(),\n",
    "        'train_acc':acc.item()\n",
    "    }"
   ]
  },
  {
   "cell_type": "code",
   "execution_count": 7,
   "id": "dd54e279",
   "metadata": {},
   "outputs": [],
   "source": [
    "def model_snapshot(model, new_file, old_file=None):\n",
    "    if isinstance(model, torch.nn.DataParallel):\n",
    "        model = model.module\n",
    "    if old_file and os.path.exists(old_file):\n",
    "        os.remove(old_file)\n",
    "\n",
    "    state_dict = OrderedDict()\n",
    "    for k, v in model.state_dict().items():\n",
    "        state_dict[k] = v\n",
    "    torch.save(state_dict, new_file)"
   ]
  },
  {
   "cell_type": "code",
   "execution_count": 8,
   "id": "4d7385cd",
   "metadata": {},
   "outputs": [],
   "source": [
    "def train(model, train_loader, test_loader, logdir):\n",
    "    ensure_dir(logdir)\n",
    "    \n",
    "    best_acc = 0\n",
    "    old_file = None\n",
    "    epochs = 30\n",
    "    start_time = time.time()\n",
    "\n",
    "    history = []\n",
    "    \n",
    "    optimizer = optim.SGD(model.parameters(), lr=0.01, weight_decay=0.0001, momentum=0.9)\n",
    "    \n",
    "    for epoch in tqdm(range(epochs)):\n",
    "\n",
    "        train_result = train_epoch(model, train_loader, optimizer)\n",
    "        test_result = eval(model, test_loader)\n",
    "\n",
    "        history.append(train_result | test_result)\n",
    "\n",
    "        if test_result['test_acc'] > best_acc:\n",
    "            new_file = os.path.join(logdir, 'best-{}.pth'.format(epoch))\n",
    "            model_snapshot(model, new_file, old_file=old_file)\n",
    "            best_acc = test_result['test_acc']\n",
    "            old_file = new_file\n",
    "    return history           "
   ]
  },
  {
   "cell_type": "code",
   "execution_count": 15,
   "id": "c9870514",
   "metadata": {},
   "outputs": [
    {
     "name": "stdout",
     "output_type": "stream",
     "text": [
      "Loading pretrained model\n"
     ]
    },
    {
     "data": {
      "application/vnd.jupyter.widget-view+json": {
       "model_id": "212e6c59817d41a08926b1687105a61f",
       "version_major": 2,
       "version_minor": 0
      },
      "text/plain": [
       "  0%|          | 0/30 [00:00<?, ?it/s]"
      ]
     },
     "metadata": {},
     "output_type": "display_data"
    },
    {
     "data": {
      "application/vnd.jupyter.widget-view+json": {
       "model_id": "ac461033e17e40d8b802a1c68499f235",
       "version_major": 2,
       "version_minor": 0
      },
      "text/plain": [
       "  0%|          | 0/300 [00:00<?, ?it/s]"
      ]
     },
     "metadata": {},
     "output_type": "display_data"
    },
    {
     "name": "stdout",
     "output_type": "stream",
     "text": [
      "Max value:  tensor(2.8215) tensor(2.8215)\n"
     ]
    },
    {
     "ename": "AssertionError",
     "evalue": "",
     "output_type": "error",
     "traceback": [
      "\u001b[1;31m---------------------------------------------------------------------------\u001b[0m",
      "\u001b[1;31mAssertionError\u001b[0m                            Traceback (most recent call last)",
      "\u001b[1;32m<ipython-input-15-70a143d1e8b9>\u001b[0m in \u001b[0;36m<module>\u001b[1;34m\u001b[0m\n\u001b[0;32m      2\u001b[0m \u001b[1;31m# torch.save(pretrained_model, 'pretrained_model')\u001b[0m\u001b[1;33m\u001b[0m\u001b[1;33m\u001b[0m\u001b[1;33m\u001b[0m\u001b[0m\n\u001b[0;32m      3\u001b[0m \u001b[1;33m\u001b[0m\u001b[0m\n\u001b[1;32m----> 4\u001b[1;33m \u001b[0mpretrained_history\u001b[0m \u001b[1;33m=\u001b[0m \u001b[0mtrain\u001b[0m\u001b[1;33m(\u001b[0m\u001b[0mpretrained_model\u001b[0m\u001b[1;33m,\u001b[0m \u001b[0mtrain_loader\u001b[0m\u001b[1;33m,\u001b[0m \u001b[0mtest_loader\u001b[0m\u001b[1;33m,\u001b[0m \u001b[0mlogdir\u001b[0m\u001b[1;33m=\u001b[0m\u001b[1;34m'pretrained'\u001b[0m\u001b[1;33m)\u001b[0m\u001b[1;33m\u001b[0m\u001b[1;33m\u001b[0m\u001b[0m\n\u001b[0m\u001b[0;32m      5\u001b[0m \u001b[1;31m# pre_df = pd.DataFrame(pretrained_history)\u001b[0m\u001b[1;33m\u001b[0m\u001b[1;33m\u001b[0m\u001b[1;33m\u001b[0m\u001b[0m\n\u001b[0;32m      6\u001b[0m \u001b[1;33m\u001b[0m\u001b[0m\n",
      "\u001b[1;32m<ipython-input-8-9083aabce99c>\u001b[0m in \u001b[0;36mtrain\u001b[1;34m(model, train_loader, test_loader, logdir)\u001b[0m\n\u001b[0;32m     13\u001b[0m     \u001b[1;32mfor\u001b[0m \u001b[0mepoch\u001b[0m \u001b[1;32min\u001b[0m \u001b[0mtqdm\u001b[0m\u001b[1;33m(\u001b[0m\u001b[0mrange\u001b[0m\u001b[1;33m(\u001b[0m\u001b[0mepochs\u001b[0m\u001b[1;33m)\u001b[0m\u001b[1;33m)\u001b[0m\u001b[1;33m:\u001b[0m\u001b[1;33m\u001b[0m\u001b[1;33m\u001b[0m\u001b[0m\n\u001b[0;32m     14\u001b[0m \u001b[1;33m\u001b[0m\u001b[0m\n\u001b[1;32m---> 15\u001b[1;33m         \u001b[0mtrain_result\u001b[0m \u001b[1;33m=\u001b[0m \u001b[0mtrain_epoch\u001b[0m\u001b[1;33m(\u001b[0m\u001b[0mmodel\u001b[0m\u001b[1;33m,\u001b[0m \u001b[0mtrain_loader\u001b[0m\u001b[1;33m,\u001b[0m \u001b[0moptimizer\u001b[0m\u001b[1;33m)\u001b[0m\u001b[1;33m\u001b[0m\u001b[1;33m\u001b[0m\u001b[0m\n\u001b[0m\u001b[0;32m     16\u001b[0m         \u001b[0mtest_result\u001b[0m \u001b[1;33m=\u001b[0m \u001b[0meval\u001b[0m\u001b[1;33m(\u001b[0m\u001b[0mmodel\u001b[0m\u001b[1;33m,\u001b[0m \u001b[0mtest_loader\u001b[0m\u001b[1;33m)\u001b[0m\u001b[1;33m\u001b[0m\u001b[1;33m\u001b[0m\u001b[0m\n\u001b[0;32m     17\u001b[0m \u001b[1;33m\u001b[0m\u001b[0m\n",
      "\u001b[1;32m<ipython-input-14-da8714a79223>\u001b[0m in \u001b[0;36mtrain_epoch\u001b[1;34m(model, train_loader, optimizer)\u001b[0m\n\u001b[0;32m      6\u001b[0m         \u001b[0mindx_target\u001b[0m \u001b[1;33m=\u001b[0m \u001b[0mtarget\u001b[0m\u001b[1;33m.\u001b[0m\u001b[0mclone\u001b[0m\u001b[1;33m(\u001b[0m\u001b[1;33m)\u001b[0m\u001b[1;33m\u001b[0m\u001b[1;33m\u001b[0m\u001b[0m\n\u001b[0;32m      7\u001b[0m         \u001b[0mprint\u001b[0m\u001b[1;33m(\u001b[0m\u001b[1;34m'Max value: '\u001b[0m\u001b[1;33m,\u001b[0m  \u001b[0mdata\u001b[0m\u001b[1;33m.\u001b[0m\u001b[0mmax\u001b[0m\u001b[1;33m(\u001b[0m\u001b[1;33m)\u001b[0m\u001b[1;33m,\u001b[0m \u001b[0mdata\u001b[0m\u001b[1;33m[\u001b[0m\u001b[1;36m0\u001b[0m\u001b[1;33m]\u001b[0m\u001b[1;33m.\u001b[0m\u001b[0mmax\u001b[0m\u001b[1;33m(\u001b[0m\u001b[1;33m)\u001b[0m\u001b[1;33m)\u001b[0m\u001b[1;33m\u001b[0m\u001b[1;33m\u001b[0m\u001b[0m\n\u001b[1;32m----> 8\u001b[1;33m         \u001b[1;32massert\u001b[0m \u001b[1;32mFalse\u001b[0m\u001b[1;33m\u001b[0m\u001b[1;33m\u001b[0m\u001b[0m\n\u001b[0m\u001b[0;32m      9\u001b[0m         \u001b[0mdata\u001b[0m\u001b[1;33m,\u001b[0m \u001b[0mtarget\u001b[0m \u001b[1;33m=\u001b[0m \u001b[0mVariable\u001b[0m\u001b[1;33m(\u001b[0m\u001b[0mdata\u001b[0m\u001b[1;33m)\u001b[0m\u001b[1;33m,\u001b[0m \u001b[0mVariable\u001b[0m\u001b[1;33m(\u001b[0m\u001b[0mtarget\u001b[0m\u001b[1;33m)\u001b[0m\u001b[1;33m\u001b[0m\u001b[1;33m\u001b[0m\u001b[0m\n\u001b[0;32m     10\u001b[0m \u001b[1;33m\u001b[0m\u001b[0m\n",
      "\u001b[1;31mAssertionError\u001b[0m: "
     ]
    }
   ],
   "source": [
    "pretrained_model = mnist(input_dims=784, n_hiddens=[256, 256], n_class=10, pretrained=True)\n",
    "# torch.save(pretrained_model, 'pretrained_model')\n",
    "\n",
    "pretrained_history = train(pretrained_model, train_loader, test_loader, logdir='pretrained')\n",
    "# pre_df = pd.DataFrame(pretrained_history)\n",
    "\n",
    "# torch.save(pretrained_model, 'pretrained_model_finetuned')\n",
    "\n",
    "# pre_df.to_csv('pretrained_history.csv', index=False)\n",
    "# pre_df.head()"
   ]
  },
  {
   "cell_type": "code",
   "execution_count": null,
   "id": "8e35ad12",
   "metadata": {},
   "outputs": [],
   "source": [
    "new_model = mnist(input_dims=784, n_hiddens=[256, 256], n_class=10, pretrained=False)\n",
    "new_history = train(new_model, train_loader, test_loader, logdir='new_model')\n",
    "torch.save(new_model, 'new_model.data')\n",
    "new_df = pd.DataFrame(new_history)\n",
    "new_df.to_csv('not_pretrained_history.csv', index=False)\n",
    "new_df.head()"
   ]
  }
 ],
 "metadata": {
  "kernelspec": {
   "display_name": "Python 3 (ipykernel)",
   "language": "python",
   "name": "python3"
  },
  "language_info": {
   "codemirror_mode": {
    "name": "ipython",
    "version": 3
   },
   "file_extension": ".py",
   "mimetype": "text/x-python",
   "name": "python",
   "nbconvert_exporter": "python",
   "pygments_lexer": "ipython3",
   "version": "3.9.5"
  }
 },
 "nbformat": 4,
 "nbformat_minor": 5
}
